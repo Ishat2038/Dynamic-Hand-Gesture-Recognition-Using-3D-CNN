{
  "nbformat": 4,
  "nbformat_minor": 0,
  "metadata": {
    "colab": {
      "provenance": [],
      "machine_shape": "hm",
      "gpuType": "T4",
      "collapsed_sections": [
        "KjfG_PHM3flV"
      ],
      "authorship_tag": "ABX9TyP0EXDXx39+vehfrHE2Bkxq",
      "include_colab_link": true
    },
    "kernelspec": {
      "name": "python3",
      "display_name": "Python 3"
    },
    "language_info": {
      "name": "python"
    },
    "accelerator": "GPU"
  },
  "cells": [
    {
      "cell_type": "markdown",
      "metadata": {
        "id": "view-in-github",
        "colab_type": "text"
      },
      "source": [
        "<a href=\"https://colab.research.google.com/github/Ishat2038/Dynamic-Hand-Gesture-Recognition-Using-3D-CNN/blob/main/Dynamic_HGR_recognition_using_3DCNN.ipynb\" target=\"_parent\"><img src=\"https://colab.research.google.com/assets/colab-badge.svg\" alt=\"Open In Colab\"/></a>"
      ]
    },
    {
      "cell_type": "markdown",
      "source": [
        "# **Dynamic hand gesture recognition (HGR) using 3DCNN**"
      ],
      "metadata": {
        "id": "0GmQa_gLRa6v"
      }
    },
    {
      "cell_type": "markdown",
      "source": [
        "**Connect Google drive**\n",
        "\n",
        "\n"
      ],
      "metadata": {
        "id": "e6Y3QV0mtxsN"
      }
    },
    {
      "cell_type": "code",
      "execution_count": null,
      "metadata": {
        "id": "8XxD5Y7eh8wN"
      },
      "outputs": [],
      "source": [
        "from google.colab import drive\n",
        "drive.mount('/content/drive')\n",
        "# !ls -la /content/drive/'My Drive'"
      ]
    },
    {
      "cell_type": "markdown",
      "source": [
        "**Import libraries**"
      ],
      "metadata": {
        "id": "dZXfok5ViCnE"
      }
    },
    {
      "cell_type": "code",
      "source": [
        "# System and OS utilities\n",
        "import os\n",
        "import time\n",
        "import math\n",
        "import random\n",
        "from pathlib import Path\n",
        "import itertools\n",
        "\n",
        "# Data manipulation and analysis\n",
        "import numpy as np\n",
        "import pandas as pd\n",
        "\n",
        "# Image and video processing\n",
        "import cv2\n",
        "import matplotlib.pyplot as plt\n",
        "\n",
        "# TensorFlow and Keras - Core libraries\n",
        "import tensorflow as tf\n",
        "from tensorflow import keras\n",
        "from tensorflow.keras.models import Model, Sequential, load_model\n",
        "\n",
        "# Keras - Preprocessing and data augmentation\n",
        "from keras.preprocessing.image import ImageDataGenerator\n",
        "\n",
        "# Keras - Model architecture\n",
        "from keras.models import Sequential\n",
        "from keras.layers import Conv3D, MaxPooling3D, BatchNormalization, Dropout, Flatten, Dense\n",
        "\n",
        "# Keras - Training utilities\n",
        "from keras.optimizers import Adam\n",
        "from keras.losses import SparseCategoricalCrossentropy, CategoricalCrossentropy\n",
        "from keras.metrics import SparseCategoricalAccuracy, CategoricalAccuracy\n",
        "from keras.regularizers import l2"
      ],
      "metadata": {
        "id": "YlpB6OgOiB-f"
      },
      "execution_count": null,
      "outputs": []
    },
    {
      "cell_type": "markdown",
      "source": [
        "**Train Test folders**"
      ],
      "metadata": {
        "id": "yBZ2Uz9DiS2b"
      }
    },
    {
      "cell_type": "code",
      "source": [
        "train_dir = '/content/drive/My Drive/Dataset/Data/Train/Train'\n",
        "test_dir = '/content/drive/My Drive/Dataset/Data/Test/Test'"
      ],
      "metadata": {
        "id": "_fw1BD3QiQLB"
      },
      "execution_count": null,
      "outputs": []
    },
    {
      "cell_type": "markdown",
      "source": [
        "## **Preprocessing dataset**"
      ],
      "metadata": {
        "id": "3Tz6yWf2u9q1"
      }
    },
    {
      "cell_type": "markdown",
      "source": [
        "**Step 1: Apply Augmentation**"
      ],
      "metadata": {
        "id": "5R-Bg1M8i7kK"
      }
    },
    {
      "cell_type": "code",
      "source": [
        "def apply_augmentation(frame, augmentation_choice):\n",
        "    #augmentation_choice = random.choice(['flip', 'rotate', 'zoom', 'brightness', 'contrast'])\n",
        "\n",
        "    if augmentation_choice == 'crop':\n",
        "        crop_size = np.random.uniform(0.8, 1.0)  # Random cropping more aggressively\n",
        "        frame = tf.image.central_crop(frame, central_fraction=crop_size)\n",
        "    elif augmentation_choice == 'zoom':\n",
        "        zoom_factor = np.random.uniform(1.0, 1.2)  # Random zoom factor\n",
        "        h, w = frame.shape[0], frame.shape[1]\n",
        "        zoomed_h, zoomed_w = int(zoom_factor * h), int(zoom_factor * w)\n",
        "        frame = tf.image.resize(frame, [zoomed_h, zoomed_w])\n",
        "        frame = tf.image.central_crop(frame, central_fraction=0.9)\n",
        "    elif augmentation_choice == 'rotate':\n",
        "        angle_deg = np.random.uniform(-15, 15)  # Random rotation between -20 to 20 degrees\n",
        "        angle_rad = angle_deg * math.pi / 180\n",
        "        frame = tfa.image.rotate(frame, angle_rad)\n",
        "    elif augmentation_choice == 'translate':\n",
        "        tx = np.random.uniform(-10, 10)  # Translate by up to 10 pixels horizontally and vertically\n",
        "        ty = np.random.uniform(-10, 10)\n",
        "        translations = [tx, ty]\n",
        "        frame = tfa.image.translate(frame, translations)\n",
        "\n",
        "    return frame"
      ],
      "metadata": {
        "id": "M7-l_Il_id5R"
      },
      "execution_count": null,
      "outputs": []
    },
    {
      "cell_type": "markdown",
      "source": [
        "**Step 2: Generate batches of sequences**"
      ],
      "metadata": {
        "id": "FN7nKXkYwdw5"
      }
    },
    {
      "cell_type": "code",
      "source": [
        "def load_and_process_frames(video_folder_path, target_size=(224, 224), augmentation=False):\n",
        "    frame_files = sorted([os.path.join(video_folder_path, f) for f in os.listdir(video_folder_path) if f.endswith('.png')])\n",
        "    processed_frames = []\n",
        "    # Select only the middle frames, excluding the first 3 and last 2 frames\n",
        "    middle_frames = frame_files[3:-2]\n",
        "    choice = random.choice(['crop', 'rotate', 'zoom', 'translate'])\n",
        "    for file in middle_frames:\n",
        "    #for file in frame_files:\n",
        "        img = cv2.imread(file, cv2.IMREAD_COLOR)\n",
        "        if augmentation:\n",
        "            img = apply_augmentation(img, choice)\n",
        "        img = cv2.resize(img, target_size)\n",
        "        img = img / 255.0  # Normalizes the images\n",
        "        processed_frames.append(img)\n",
        "    return np.stack(processed_frames)"
      ],
      "metadata": {
        "id": "2CdH3RfsttdC"
      },
      "execution_count": null,
      "outputs": []
    },
    {
      "cell_type": "code",
      "source": [
        "import os\n",
        "import random\n",
        "import tensorflow as tf\n",
        "import numpy as np\n",
        "\n",
        "def sequence_generator(directory, class_names, batch_size=10, sequence_length=25, target_size=(224, 224), augmentation=False, mode='train'):\n",
        "    def train_val_split(video_folders, split_ratio=0.75):\n",
        "        split_index = int(len(video_folders) * split_ratio)\n",
        "        random.shuffle(video_folders)\n",
        "        return video_folders[:split_index], video_folders[split_index:]\n",
        "\n",
        "    def generator():\n",
        "            label_map = {class_name: idx for idx, class_name in enumerate(class_names)}\n",
        "            for class_name in class_names:\n",
        "                class_path = os.path.join(directory, class_name)\n",
        "                all_video_folders = os.listdir(class_path)\n",
        "                random.shuffle(all_video_folders)  # Shuffle each time before splitting\n",
        "                train_folders, val_folders = train_val_split(all_video_folders)\n",
        "\n",
        "                folders_to_use = train_folders if mode == 'train' else val_folders\n",
        "\n",
        "                for video_folder in folders_to_use:\n",
        "                    video_folder_path = os.path.join(class_path, video_folder)\n",
        "                    sequence = load_and_process_frames(video_folder_path, target_size)\n",
        "                    label = label_map[class_name]\n",
        "                    yield sequence, label\n",
        "\n",
        "    output_signature = (\n",
        "        tf.TensorSpec(shape=(sequence_length, *target_size, 3), dtype=tf.float32),\n",
        "        tf.TensorSpec(shape=(), dtype=tf.int16)\n",
        "    )\n",
        "\n",
        "    dataset = tf.data.Dataset.from_generator(\n",
        "        generator,\n",
        "        output_signature=output_signature\n",
        "    )\n",
        "\n",
        "    return dataset.batch(batch_size).prefetch(tf.data.AUTOTUNE)\n"
      ],
      "metadata": {
        "id": "L84iOXDIuw8e"
      },
      "execution_count": null,
      "outputs": []
    },
    {
      "cell_type": "markdown",
      "source": [
        "**Random shuffling video folders before splitting into Train/Test**"
      ],
      "metadata": {
        "id": "ubb0vlYOwjOr"
      }
    },
    {
      "cell_type": "code",
      "source": [
        "def sequence_generator_rand(directory, class_names, batch_size=10, sequence_length=25, target_size=(224, 224), augmentation=False, mode='train'):\n",
        "    def train_val_split(all_videos, split_ratio=0.75):\n",
        "        split_index = int(len(all_videos) * split_ratio)\n",
        "        random.shuffle(all_videos)\n",
        "        return all_videos[:split_index], all_videos[split_index:]\n",
        "\n",
        "    def generator():\n",
        "\n",
        "            label_map = {class_name: idx for idx, class_name in enumerate(class_names)}\n",
        "            # Create a list of all (class_name, video_folder) pairs\n",
        "            all_videos = [(class_name, video_folder)\n",
        "                          for class_name in class_names\n",
        "                          for video_folder in os.listdir(os.path.join(directory, class_name))]\n",
        "\n",
        "            # Shuffle and split the videos\n",
        "            random.shuffle(all_videos)\n",
        "            train_videos, val_videos = train_val_split(all_videos)\n",
        "            videos_to_use = train_videos if mode == 'train' else val_videos\n",
        "\n",
        "            # Cycle through videos and accumulate batch\n",
        "            for class_name, video_folder in itertools.cycle(videos_to_use):\n",
        "                video_folder_path = os.path.join(directory, class_name, video_folder)\n",
        "                sequence = load_and_process_frames(video_folder_path, target_size)\n",
        "                label = label_map[class_name]\n",
        "                yield sequence, label\n",
        "    output_signature = (\n",
        "        tf.TensorSpec(shape=(sequence_length, *target_size, 3), dtype=tf.float32),\n",
        "        tf.TensorSpec(shape=(), dtype=tf.int16)\n",
        "    )\n",
        "\n",
        "    dataset = tf.data.Dataset.from_generator(\n",
        "        generator,\n",
        "        output_signature=output_signature\n",
        "    )\n",
        "\n",
        "    return dataset.batch(batch_size).prefetch(tf.data.AUTOTUNE)"
      ],
      "metadata": {
        "id": "DrA2Xzgtwi0T"
      },
      "execution_count": null,
      "outputs": []
    },
    {
      "cell_type": "markdown",
      "source": [
        "**Step 3: Split into Train/Test/Validation dataset**"
      ],
      "metadata": {
        "id": "okWeTbMK-HZf"
      }
    },
    {
      "cell_type": "code",
      "source": [
        "def sequence_generator_test(directory, class_names, batch_size=10, sequence_length=25, target_size=(224, 224), augmentation=False):\n",
        "\n",
        "    def generator():\n",
        "\n",
        "      # while True:  # Infinite loop to keep generating data\n",
        "        label_map = {class_name: idx for idx, class_name in enumerate(class_names)}\n",
        "        for class_name in class_names:\n",
        "            class_path = os.path.join(directory, class_name)\n",
        "            all_video_folders = os.listdir(class_path)\n",
        "            for video_folder in all_video_folders:\n",
        "                video_folder_path = os.path.join(class_path, video_folder)\n",
        "                sequence = load_and_process_frames(video_folder_path, target_size)\n",
        "                label = label_map[class_name]\n",
        "                yield sequence, label\n",
        "                #yield sequence, label_map(class_name)\n",
        "\n",
        "    output_signature = (\n",
        "        tf.TensorSpec(shape=(sequence_length, *target_size, 3), dtype=tf.float32),\n",
        "        tf.TensorSpec(shape=(), dtype=tf.int16)\n",
        "    )\n",
        "\n",
        "    dataset = tf.data.Dataset.from_generator(\n",
        "        generator,\n",
        "        output_signature=output_signature\n",
        "    )\n",
        "\n",
        "    return dataset.batch(batch_size).prefetch(tf.data.AUTOTUNE)"
      ],
      "metadata": {
        "id": "J8QNWKC07hXF"
      },
      "execution_count": null,
      "outputs": []
    },
    {
      "cell_type": "markdown",
      "source": [
        "### **Print and visualize the shapes, labels** (optional)"
      ],
      "metadata": {
        "id": "KjfG_PHM3flV"
      }
    },
    {
      "cell_type": "code",
      "source": [
        "#without augmentation\n",
        "check_dataset = sequence_generator(train_dir, class_names, batch_size=10, augmentation=False, mode='train')\n",
        "#with augmentation\n",
        "check_dataset_aug = sequence_generator(train_dir, class_names, batch_size=10, augmentation=True, mode='train')"
      ],
      "metadata": {
        "id": "3M9psImO3ydC"
      },
      "execution_count": null,
      "outputs": []
    },
    {
      "cell_type": "code",
      "source": [
        "count_x = 0\n",
        "start_time = time.time()\n",
        "for batch_X, batch_y in check_dataset_aug:\n",
        "    print(\"Shapes of batch \", count_x, \"are:\", batch_X.shape, batch_y)\n",
        "    count_x = count_x + 1\n",
        "    if count_x == 2:\n",
        "        break\n",
        "    #break\n",
        "print(\"Number of batch x:\", count_x)\n",
        "end_time = time.time()\n",
        "# Calculate and print the processing time\n",
        "processing_time = end_time - start_time\n",
        "print(f\"Processing time: {processing_time:.4f} seconds\")"
      ],
      "metadata": {
        "colab": {
          "base_uri": "https://localhost:8080/"
        },
        "id": "FRh5W7G53wLi",
        "outputId": "aae6f47f-4825-41da-8871-dcdb823ec08a"
      },
      "execution_count": null,
      "outputs": [
        {
          "output_type": "stream",
          "name": "stdout",
          "text": [
            "Shapes of batch  0 are: (10, 25, 224, 224, 3) tf.Tensor([0 0 0 0 0 0 0 0 0 0], shape=(10,), dtype=int16)\n",
            "Shapes of batch  1 are: (10, 25, 224, 224, 3) tf.Tensor([0 0 0 0 0 0 0 0 1 1], shape=(10,), dtype=int16)\n",
            "Number of batch x: 2\n",
            "Processing time: 126.6990 seconds\n"
          ]
        }
      ]
    },
    {
      "cell_type": "markdown",
      "source": [
        "**Visualize a sequence batch**"
      ],
      "metadata": {
        "id": "RsdZ6fOC4teW"
      }
    },
    {
      "cell_type": "code",
      "source": [
        "import matplotlib.pyplot as plt\n",
        "def visualize_sequence(sequence, label, class_names):\n",
        "    num_frames = sequence.shape[0]  # Number of frames in the sequence\n",
        "\n",
        "    # Set the width of each subplot and the height of the figure\n",
        "    subplot_width = 10  # Adjust this value as needed\n",
        "    fig_width = subplot_width * num_frames\n",
        "    fig_height = 10  # Adjust this value as needed for the height\n",
        "\n",
        "    #plt.figure(figsize=(fig_width, fig_height))  # Set the figure size\n",
        "    for i in range(num_frames):\n",
        "        plt.figure(figsize=(fig_width, fig_height))\n",
        "        plt.subplot(1, num_frames, i + 1)\n",
        "        plt.imshow(sequence[i])\n",
        "        plt.title(f'Frame {i+1} - {class_names[label]}')\n",
        "        plt.axis('off')\n",
        "        plt.tight_layout()\n",
        "        plt.show()"
      ],
      "metadata": {
        "id": "5mmh07gl4xOQ"
      },
      "execution_count": null,
      "outputs": []
    },
    {
      "cell_type": "code",
      "source": [
        "batch_size = 10  # or your chosen batch size\n",
        "dataset = sequence_generator(train_dir, class_names, batch_size=batch_size, sequence_length=25, target_size=(224, 224), augmentation=True, mode='train')\n",
        "\n",
        "# Fetch one batch\n",
        "for sequences, labels in dataset.take(1):\n",
        "    # Select the first sequence and its label from the batch\n",
        "    sequence_to_visualize = sequences[0].numpy()  # Convert to NumPy array if needed\n",
        "    label_of_sequence = labels[0].numpy()\n",
        "\n",
        "    # Visualize the sequence\n",
        "    visualize_sequence(sequence_to_visualize, label_of_sequence, class_names)\n",
        "    break  # Break after fetching one batch"
      ],
      "metadata": {
        "id": "CrfFI4eL6EYK"
      },
      "execution_count": null,
      "outputs": []
    },
    {
      "cell_type": "markdown",
      "source": [
        "**Create train test and validation generator**"
      ],
      "metadata": {
        "id": "VSitFNkq69Bi"
      }
    },
    {
      "cell_type": "markdown",
      "source": [
        "Raw data"
      ],
      "metadata": {
        "id": "KV6YqLNzzAyq"
      }
    },
    {
      "cell_type": "code",
      "source": [
        "train_dataset = sequence_generator(train_dir, class_names, batch_size=10, augmentation=False, mode='train')\n",
        "val_dataset = sequence_generator(train_dir, class_names, batch_size=10, augmentation=False, mode='validation')\n",
        "test_dataset = sequence_generator_test(test_dir, class_names, batch_size=10, augmentation=False)"
      ],
      "metadata": {
        "id": "1rUWpYxs7FQQ"
      },
      "execution_count": null,
      "outputs": []
    },
    {
      "cell_type": "markdown",
      "source": [
        "Augmented data"
      ],
      "metadata": {
        "id": "_4-NCqetzCxD"
      }
    },
    {
      "cell_type": "code",
      "source": [
        "train_dataset_aug = sequence_generator(train_dir, class_names, batch_size=10, augmentation=True, mode='train')\n",
        "val_dataset_aug = sequence_generator(train_dir, class_names, batch_size=10, augmentation=True, mode='validation')"
      ],
      "metadata": {
        "id": "2eR3uB6l7R8N"
      },
      "execution_count": null,
      "outputs": []
    },
    {
      "cell_type": "markdown",
      "source": [
        "# **Training the 3DCNN model**"
      ],
      "metadata": {
        "id": "dyXjNUtE6ypy"
      }
    },
    {
      "cell_type": "markdown",
      "source": [
        "**CNN Model**"
      ],
      "metadata": {
        "id": "Khb15ru0Gz-e"
      }
    },
    {
      "cell_type": "code",
      "source": [
        "img_height, img_width = 224, 224\n",
        "num_frames_per_sequence = 25\n",
        "batch_size = 10\n",
        "num_classes = len(class_names)\n",
        "\n",
        "# Define the 3D CNN model\n",
        "import tensorflow as tf\n",
        "from keras.models import Sequential\n",
        "from keras.layers import Conv3D, MaxPooling3D, BatchNormalization, Dropout, Flatten, Dense\n",
        "from keras.regularizers import l2\n",
        "\n",
        "model_cnn = Sequential([\n",
        "    Conv3D(32, (3, 3, 3), activation='relu', padding='same', kernel_regularizer=l2(0.001),\n",
        "           input_shape=(num_frames_per_sequence, img_height, img_width, 3)),\n",
        "    MaxPooling3D((2, 2, 2), strides=(2, 2, 2)),\n",
        "    BatchNormalization(),\n",
        "    Dropout(0.25),\n",
        "    Conv3D(64, (3, 3, 3), activation='relu', dilation_rate=(1, 1, 1), padding='same',\n",
        "           kernel_regularizer=tf.keras.regularizers.l2(0.001)),\n",
        "    MaxPooling3D((2, 2, 2), strides=(2, 2, 2)),\n",
        "    BatchNormalization(),\n",
        "    Dropout(0.25),\n",
        "    #second layer\n",
        "    Conv3D(128, (3, 3, 3), activation='relu', dilation_rate=(1, 1, 1), padding='same',\n",
        "           kernel_regularizer=tf.keras.regularizers.l2(0.001)),\n",
        "    MaxPooling3D((2, 2, 2), strides=(2, 2, 2)),\n",
        "    BatchNormalization(),\n",
        "    Dropout(0.25),\n",
        "    #fourth layer\n",
        "    Conv3D(256, (3, 3, 3), activation='relu', dilation_rate=(1, 1, 1), padding='same',\n",
        "           kernel_regularizer=tf.keras.regularizers.l2(0.001)),\n",
        "    MaxPooling3D((2, 2, 2), strides=(2, 2, 2)),\n",
        "    BatchNormalization(),\n",
        "    Dropout(0.40),\n",
        "    Flatten(),\n",
        "    Dense(256, activation='relu'),\n",
        "    Dense(num_classes, activation='softmax')  # Correct activation for multi-class classification\n",
        "])\n"
      ],
      "metadata": {
        "id": "ZQ2nO3qRGTGu"
      },
      "execution_count": null,
      "outputs": []
    },
    {
      "cell_type": "markdown",
      "source": [
        "**Compile**"
      ],
      "metadata": {
        "id": "bAn1kD1nG81R"
      }
    },
    {
      "cell_type": "code",
      "source": [
        "lr_schedule = tf.keras.optimizers.schedules.ExponentialDecay(\n",
        "    initial_learning_rate=1e-4,\n",
        "    decay_steps=10000,\n",
        "    decay_rate=0.9\n",
        ")\n",
        "\n",
        "optimizer = tf.keras.optimizers.Adam(learning_rate=lr_schedule)\n",
        "model_cnn.compile(\n",
        "    optimizer=optimizer,  # Lower learning rate\n",
        "    loss='sparse_categorical_crossentropy',\n",
        "    metrics=['accuracy']\n",
        ")"
      ],
      "metadata": {
        "id": "DgRywRSDG5BU"
      },
      "execution_count": null,
      "outputs": []
    },
    {
      "cell_type": "markdown",
      "source": [
        "### **Visualize 3DCNN model structure**(optional)"
      ],
      "metadata": {
        "id": "GjhETHtG4-k4"
      }
    },
    {
      "cell_type": "code",
      "source": [
        "model_cnn.summary()"
      ],
      "metadata": {
        "colab": {
          "base_uri": "https://localhost:8080/"
        },
        "id": "Xs-80uuXHDcO",
        "outputId": "4bde0bad-2eca-43b7-d311-f1d7dca2c802"
      },
      "execution_count": null,
      "outputs": [
        {
          "output_type": "stream",
          "name": "stdout",
          "text": [
            "Model: \"sequential_1\"\n",
            "_________________________________________________________________\n",
            " Layer (type)                Output Shape              Param #   \n",
            "=================================================================\n",
            " conv3d_4 (Conv3D)           (None, 25, 224, 224, 32   2624      \n",
            "                             )                                   \n",
            "                                                                 \n",
            " max_pooling3d_4 (MaxPoolin  (None, 12, 112, 112, 32   0         \n",
            " g3D)                        )                                   \n",
            "                                                                 \n",
            " batch_normalization_4 (Bat  (None, 12, 112, 112, 32   128       \n",
            " chNormalization)            )                                   \n",
            "                                                                 \n",
            " dropout_4 (Dropout)         (None, 12, 112, 112, 32   0         \n",
            "                             )                                   \n",
            "                                                                 \n",
            " conv3d_5 (Conv3D)           (None, 12, 112, 112, 64   55360     \n",
            "                             )                                   \n",
            "                                                                 \n",
            " max_pooling3d_5 (MaxPoolin  (None, 6, 56, 56, 64)     0         \n",
            " g3D)                                                            \n",
            "                                                                 \n",
            " batch_normalization_5 (Bat  (None, 6, 56, 56, 64)     256       \n",
            " chNormalization)                                                \n",
            "                                                                 \n",
            " dropout_5 (Dropout)         (None, 6, 56, 56, 64)     0         \n",
            "                                                                 \n",
            " conv3d_6 (Conv3D)           (None, 6, 56, 56, 128)    221312    \n",
            "                                                                 \n",
            " max_pooling3d_6 (MaxPoolin  (None, 3, 28, 28, 128)    0         \n",
            " g3D)                                                            \n",
            "                                                                 \n",
            " batch_normalization_6 (Bat  (None, 3, 28, 28, 128)    512       \n",
            " chNormalization)                                                \n",
            "                                                                 \n",
            " dropout_6 (Dropout)         (None, 3, 28, 28, 128)    0         \n",
            "                                                                 \n",
            " conv3d_7 (Conv3D)           (None, 3, 28, 28, 256)    884992    \n",
            "                                                                 \n",
            " max_pooling3d_7 (MaxPoolin  (None, 1, 14, 14, 256)    0         \n",
            " g3D)                                                            \n",
            "                                                                 \n",
            " batch_normalization_7 (Bat  (None, 1, 14, 14, 256)    1024      \n",
            " chNormalization)                                                \n",
            "                                                                 \n",
            " dropout_7 (Dropout)         (None, 1, 14, 14, 256)    0         \n",
            "                                                                 \n",
            " flatten_1 (Flatten)         (None, 50176)             0         \n",
            "                                                                 \n",
            " dense_2 (Dense)             (None, 256)               12845312  \n",
            "                                                                 \n",
            " dense_3 (Dense)             (None, 11)                2827      \n",
            "                                                                 \n",
            "=================================================================\n",
            "Total params: 14014347 (53.46 MB)\n",
            "Trainable params: 14013387 (53.46 MB)\n",
            "Non-trainable params: 960 (3.75 KB)\n",
            "_________________________________________________________________\n"
          ]
        }
      ]
    },
    {
      "cell_type": "markdown",
      "source": [
        "**Loading previously trained and saved model**"
      ],
      "metadata": {
        "id": "jG14UOdDHFEe"
      }
    },
    {
      "cell_type": "code",
      "source": [
        "model_path = '/content/drive/MyDrive/Dataset/code/best_model_25f_without_aug.keras'\n",
        "if os.path.exists(model_path):\n",
        "  model = load_model(model_path)\n",
        "  print(\"Model loaded successfully!\")\n",
        "  # Proceed with using the loaded model\n",
        "else:\n",
        "  print(\"Error: Model file not found at\", model_path)\n",
        "model.trainable = True"
      ],
      "metadata": {
        "colab": {
          "base_uri": "https://localhost:8080/"
        },
        "id": "mKFchWYSYFdW",
        "outputId": "dda35d2c-41d4-4364-b260-243f364b5e4b"
      },
      "execution_count": null,
      "outputs": [
        {
          "output_type": "stream",
          "name": "stdout",
          "text": [
            "Model loaded successfully!\n"
          ]
        }
      ]
    },
    {
      "cell_type": "code",
      "source": [
        "lr_schedule = tf.keras.optimizers.schedules.ExponentialDecay(\n",
        "    initial_learning_rate=1e-4,\n",
        "    decay_steps=10000,\n",
        "    decay_rate=0.9\n",
        ")\n",
        "\n",
        "optimizer = tf.keras.optimizers.Adam(learning_rate=lr_schedule)\n",
        "\n",
        "model.compile(\n",
        "    optimizer=optimizer,  # Lower learning rate\n",
        "    loss='sparse_categorical_crossentropy',\n",
        "    metrics=['accuracy']\n",
        ")"
      ],
      "metadata": {
        "id": "R8meQBMGqPiW"
      },
      "execution_count": null,
      "outputs": []
    },
    {
      "cell_type": "markdown",
      "source": [
        "**Train dataset**"
      ],
      "metadata": {
        "id": "qx1l9CMW1_nC"
      }
    },
    {
      "cell_type": "code",
      "source": [
        "#train_dataset_aug, val_dataset_aug, train_dataset_rand, val_dataset_rand\n",
        "history = model.fit(\n",
        "    train_dataset_aug,  # Replace with your training dataset\n",
        "    epochs=20,  # Adjust number of epochs as needed\n",
        "    validation_data=val_dataset_aug,  # Replace with your validation dataset\n",
        "    callbacks=[\n",
        "        tf.keras.callbacks.EarlyStopping(patience=6, restore_best_weights=True, monitor='val_loss'),\n",
        "        tf.keras.callbacks.ReduceLROnPlateau(monitor='val_loss', factor=0.1, patience=6, verbose=1),\n",
        "        tf.keras.callbacks.ModelCheckpoint(filepath='/content/drive/MyDrive/Dataset/code/cnn_25f_aug.keras', monitor='val_loss', save_best_only=True, mode='min')\n",
        "    ]\n",
        ")\n",
        "\n"
      ],
      "metadata": {
        "colab": {
          "base_uri": "https://localhost:8080/"
        },
        "id": "QR_9XtztHQpe",
        "outputId": "b548b02d-9ad0-491d-b038-ef8050542d63"
      },
      "execution_count": null,
      "outputs": [
        {
          "output_type": "stream",
          "name": "stdout",
          "text": [
            "Epoch 1/20\n",
            "20/20 [==============================] - 34s 2s/step - loss: 0.3083 - accuracy: 0.9949 - val_loss: 0.3602 - val_accuracy: 0.9848 - lr: 9.9357e-05\n",
            "Epoch 2/20\n",
            "20/20 [==============================] - 34s 2s/step - loss: 0.2747 - accuracy: 1.0000 - val_loss: 0.3558 - val_accuracy: 0.9697 - lr: 9.9337e-05\n",
            "Epoch 3/20\n",
            "20/20 [==============================] - 35s 2s/step - loss: 0.2718 - accuracy: 1.0000 - val_loss: 0.3088 - val_accuracy: 0.9848 - lr: 9.9316e-05\n",
            "Epoch 4/20\n",
            "20/20 [==============================] - 35s 2s/step - loss: 0.2707 - accuracy: 1.0000 - val_loss: 0.2954 - val_accuracy: 0.9848 - lr: 9.9296e-05\n",
            "Epoch 5/20\n",
            "20/20 [==============================] - 35s 2s/step - loss: 0.2697 - accuracy: 1.0000 - val_loss: 0.2741 - val_accuracy: 1.0000 - lr: 9.9275e-05\n",
            "Epoch 6/20\n",
            "20/20 [==============================] - 33s 2s/step - loss: 0.2689 - accuracy: 1.0000 - val_loss: 0.2764 - val_accuracy: 1.0000 - lr: 9.9254e-05\n",
            "Epoch 7/20\n",
            "20/20 [==============================] - 33s 2s/step - loss: 0.2683 - accuracy: 1.0000 - val_loss: 0.2747 - val_accuracy: 1.0000 - lr: 9.9233e-05\n",
            "Epoch 8/20\n",
            "20/20 [==============================] - 33s 2s/step - loss: 0.2676 - accuracy: 1.0000 - val_loss: 0.2727 - val_accuracy: 1.0000 - lr: 9.9212e-05\n",
            "Epoch 9/20\n",
            "20/20 [==============================] - 34s 2s/step - loss: 0.2671 - accuracy: 1.0000 - val_loss: 0.2717 - val_accuracy: 1.0000 - lr: 9.9191e-05\n",
            "Epoch 10/20\n",
            "20/20 [==============================] - 33s 2s/step - loss: 0.2661 - accuracy: 1.0000 - val_loss: 0.2790 - val_accuracy: 1.0000 - lr: 9.9170e-05\n",
            "Epoch 11/20\n",
            "20/20 [==============================] - 32s 2s/step - loss: 0.2661 - accuracy: 1.0000 - val_loss: 0.2752 - val_accuracy: 1.0000 - lr: 9.9149e-05\n",
            "Epoch 12/20\n",
            "20/20 [==============================] - 34s 2s/step - loss: 0.2653 - accuracy: 1.0000 - val_loss: 0.2705 - val_accuracy: 1.0000 - lr: 9.9128e-05\n",
            "Epoch 13/20\n",
            "20/20 [==============================] - 33s 2s/step - loss: 0.2645 - accuracy: 1.0000 - val_loss: 0.2716 - val_accuracy: 1.0000 - lr: 9.9107e-05\n",
            "Epoch 14/20\n",
            "20/20 [==============================] - 32s 2s/step - loss: 0.2640 - accuracy: 1.0000 - val_loss: 0.2717 - val_accuracy: 1.0000 - lr: 9.9087e-05\n",
            "Epoch 15/20\n",
            "20/20 [==============================] - 32s 2s/step - loss: 0.2633 - accuracy: 1.0000 - val_loss: 0.2724 - val_accuracy: 1.0000 - lr: 9.9066e-05\n",
            "Epoch 16/20\n",
            "20/20 [==============================] - 33s 2s/step - loss: 0.2627 - accuracy: 1.0000 - val_loss: 0.2712 - val_accuracy: 1.0000 - lr: 9.9045e-05\n",
            "Epoch 17/20\n",
            "20/20 [==============================] - 34s 2s/step - loss: 0.2619 - accuracy: 1.0000 - val_loss: 0.2641 - val_accuracy: 1.0000 - lr: 9.9024e-05\n",
            "Epoch 18/20\n",
            "20/20 [==============================] - 34s 2s/step - loss: 0.2613 - accuracy: 1.0000 - val_loss: 0.2634 - val_accuracy: 1.0000 - lr: 9.9003e-05\n",
            "Epoch 19/20\n",
            "20/20 [==============================] - 33s 2s/step - loss: 0.2606 - accuracy: 1.0000 - val_loss: 0.2674 - val_accuracy: 1.0000 - lr: 9.8982e-05\n",
            "Epoch 20/20\n",
            "20/20 [==============================] - 32s 2s/step - loss: 0.2600 - accuracy: 1.0000 - val_loss: 0.2662 - val_accuracy: 1.0000 - lr: 9.8961e-05\n"
          ]
        }
      ]
    },
    {
      "cell_type": "markdown",
      "source": [
        "# **Visualize results**"
      ],
      "metadata": {
        "id": "9A5I8OSEI1aF"
      }
    },
    {
      "cell_type": "code",
      "source": [
        "from sklearn.metrics import accuracy_score, precision_score, recall_score, f1_score, classification_report\n",
        "plt.figure(figsize=(12, 6))\n",
        "plt.subplot(1, 2, 1)\n",
        "plt.plot(history.history['accuracy'], label='Training Accuracy')\n",
        "plt.plot(history.history['val_accuracy'], label='Validation Accuracy')\n",
        "plt.xlabel('Epoch')\n",
        "plt.ylabel('Accuracy')\n",
        "plt.legend()\n",
        "\n",
        "# Plot training and validation loss\n",
        "plt.subplot(1, 2, 2)\n",
        "plt.plot(history.history['loss'], label='Training Loss')\n",
        "plt.plot(history.history['val_loss'], label='Validation Loss')\n",
        "plt.xlabel('Epoch')\n",
        "plt.ylabel('Loss')\n",
        "plt.legend()\n",
        "\n",
        "plt.tight_layout()\n",
        "plt.show()"
      ],
      "metadata": {
        "colab": {
          "base_uri": "https://localhost:8080/",
          "height": 607
        },
        "id": "fWrVom8xI0cT",
        "outputId": "3553b8c9-6d10-4abd-e1ac-e37a5947cff8"
      },
      "execution_count": null,
      "outputs": [
        {
          "output_type": "display_data",
          "data": {
            "text/plain": [
              "<Figure size 1200x600 with 2 Axes>"
            ],
            "image/png": "[encoded data removed]"
          },
          "metadata": {}
        }
      ]
    },
    {
      "cell_type": "markdown",
      "source": [
        "### **prediction accuracy**"
      ],
      "metadata": {
        "id": "9YdHmhUhI-17"
      }
    },
    {
      "cell_type": "code",
      "source": [
        "result = model.evaluate(test_dataset, return_dict=True)"
      ],
      "metadata": {
        "colab": {
          "base_uri": "https://localhost:8080/"
        },
        "id": "Ry4aS3lXI6vU",
        "outputId": "2701b8ec-bfd2-4ceb-83a2-f5d812ab9b91"
      },
      "execution_count": null,
      "outputs": [
        {
          "output_type": "stream",
          "name": "stdout",
          "text": [
            "27/27 [==============================] - 31s 1s/step - loss: 0.2644 - accuracy: 1.0000\n"
          ]
        }
      ]
    },
    {
      "cell_type": "code",
      "source": [
        "test_dataset_aug = sequence_generator_test(test_dir, class_names, batch_size=10, augmentation=True)"
      ],
      "metadata": {
        "id": "H_Lj3U-TNmGT"
      },
      "execution_count": null,
      "outputs": []
    },
    {
      "cell_type": "code",
      "source": [
        "result_1 = model.evaluate(test_dataset_aug, return_dict=True)"
      ],
      "metadata": {
        "colab": {
          "base_uri": "https://localhost:8080/"
        },
        "id": "qxig55CwNuZ7",
        "outputId": "ae2459a5-a3e6-4f3f-d1e9-8d0422da0276"
      },
      "execution_count": null,
      "outputs": [
        {
          "output_type": "stream",
          "name": "stdout",
          "text": [
            "27/27 [==============================] - 31s 1s/step - loss: 0.2644 - accuracy: 1.0000\n"
          ]
        }
      ]
    },
    {
      "cell_type": "code",
      "source": [
        "final_loss, final_accuracy = model.evaluate(val_dataset)\n",
        "print(\"Final loss: {:.2f}\".format(final_loss))\n",
        "print(\"Final accuracy: {:.2f}%\".format(final_accuracy * 100))"
      ],
      "metadata": {
        "colab": {
          "base_uri": "https://localhost:8080/"
        },
        "id": "XOsOBzcVLIU5",
        "outputId": "d2bee0ca-6626-4b7e-ef13-233a3d5dd8aa"
      },
      "execution_count": null,
      "outputs": [
        {
          "output_type": "stream",
          "name": "stdout",
          "text": [
            "7/7 [==============================] - 10s 1s/step - loss: 0.2633 - accuracy: 1.0000\n",
            "Final loss: 0.26\n",
            "Final accuracy: 100.00%\n"
          ]
        }
      ]
    },
    {
      "cell_type": "code",
      "source": [
        "final_loss, final_accuracy = model_cnn.evaluate(test_dataset)\n",
        "print(\"Final loss: {:.2f}\".format(final_loss))\n",
        "print(\"Final accuracy: {:.2f}%\".format(final_accuracy * 100))"
      ],
      "metadata": {
        "colab": {
          "base_uri": "https://localhost:8080/"
        },
        "id": "GyBUIJC6NRh5",
        "outputId": "52e2adf4-7ea4-4d42-ce29-f4c358eba839"
      },
      "execution_count": null,
      "outputs": [
        {
          "output_type": "stream",
          "name": "stdout",
          "text": [
            "27/27 [==============================] - 31s 1s/step - loss: 0.3012 - accuracy: 1.0000\n",
            "Final loss: 0.30\n",
            "Final accuracy: 100.00%\n"
          ]
        }
      ]
    },
    {
      "cell_type": "code",
      "source": [
        "# Increase precision of presented data for better side-by-side comparison\n",
        "pd.set_option(\"display.precision\", 8)\n",
        "from keras.metrics import Precision, Recall, BinaryAccuracy\n",
        "import matplotlib.font_manager as font_manager\n",
        "from sklearn.metrics import classification_report"
      ],
      "metadata": {
        "id": "FGQ8sDlxRBKz"
      },
      "execution_count": null,
      "outputs": []
    },
    {
      "cell_type": "markdown",
      "source": [
        "### **Prediction labels**"
      ],
      "metadata": {
        "id": "xyyToO1WKQuU"
      }
    },
    {
      "cell_type": "code",
      "source": [
        "def get_predictions_and_labels(dataset):\n",
        "    all_predictions = []\n",
        "    all_labels = []\n",
        "\n",
        "    for batch, labels in dataset:\n",
        "        # Generate predictions\n",
        "        predictions = model.predict(batch)\n",
        "        # Convert predictions to class indices\n",
        "        predicted_classes = np.argmax(predictions, axis=1)\n",
        "        all_predictions.extend(predicted_classes)\n",
        "        all_labels.extend(labels.numpy())\n",
        "\n",
        "    return np.array(all_predictions), np.array(all_labels)\n",
        "\n",
        "# Get predictions and labels for both training and testing sets\n",
        "train_dataset_1 = sequence_generator_test(train_dir, class_names, batch_size=10, augmentation=True)\n",
        "print(\"Train predictions and labels:\")\n",
        "train_predictions, train_labels = get_predictions_and_labels(train_dataset_1)\n",
        "print(\"Test predictions and labels:\")\n",
        "test_predictions, test_labels = get_predictions_and_labels(test_dataset)\n"
      ],
      "metadata": {
        "colab": {
          "base_uri": "https://localhost:8080/"
        },
        "id": "4qlFEQMlHhJt",
        "outputId": "b6d5ab47-0228-4f54-fc31-ac64e19a3b53"
      },
      "execution_count": null,
      "outputs": [
        {
          "output_type": "stream",
          "name": "stdout",
          "text": [
            "Train predictions and labels:\n",
            "1/1 [==============================] - 0s 186ms/step\n",
            "1/1 [==============================] - 0s 171ms/step\n",
            "1/1 [==============================] - 0s 166ms/step\n",
            "1/1 [==============================] - 0s 162ms/step\n",
            "1/1 [==============================] - 0s 174ms/step\n",
            "1/1 [==============================] - 0s 175ms/step\n",
            "1/1 [==============================] - 0s 179ms/step\n",
            "1/1 [==============================] - 0s 180ms/step\n",
            "1/1 [==============================] - 0s 177ms/step\n",
            "1/1 [==============================] - 0s 175ms/step\n",
            "1/1 [==============================] - 0s 173ms/step\n",
            "1/1 [==============================] - 0s 180ms/step\n",
            "1/1 [==============================] - 0s 167ms/step\n",
            "1/1 [==============================] - 0s 164ms/step\n",
            "1/1 [==============================] - 0s 172ms/step\n",
            "1/1 [==============================] - 0s 167ms/step\n",
            "1/1 [==============================] - 0s 166ms/step\n",
            "1/1 [==============================] - 0s 164ms/step\n",
            "1/1 [==============================] - 0s 172ms/step\n",
            "1/1 [==============================] - 0s 159ms/step\n",
            "1/1 [==============================] - 0s 173ms/step\n",
            "1/1 [==============================] - 0s 166ms/step\n",
            "1/1 [==============================] - 0s 166ms/step\n",
            "1/1 [==============================] - 0s 174ms/step\n",
            "1/1 [==============================] - 0s 165ms/step\n",
            "1/1 [==============================] - 0s 165ms/step\n",
            "1/1 [==============================] - 0s 59ms/step\n",
            "Test predictions and labels:\n",
            "1/1 [==============================] - 0s 172ms/step\n",
            "1/1 [==============================] - 0s 170ms/step\n",
            "1/1 [==============================] - 0s 180ms/step\n",
            "1/1 [==============================] - 0s 193ms/step\n",
            "1/1 [==============================] - 0s 166ms/step\n",
            "1/1 [==============================] - 0s 169ms/step\n",
            "1/1 [==============================] - 0s 169ms/step\n",
            "1/1 [==============================] - 0s 168ms/step\n",
            "1/1 [==============================] - 0s 168ms/step\n",
            "1/1 [==============================] - 0s 171ms/step\n",
            "1/1 [==============================] - 0s 173ms/step\n",
            "1/1 [==============================] - 0s 181ms/step\n",
            "1/1 [==============================] - 0s 180ms/step\n",
            "1/1 [==============================] - 0s 173ms/step\n",
            "1/1 [==============================] - 0s 166ms/step\n",
            "1/1 [==============================] - 0s 181ms/step\n",
            "1/1 [==============================] - 0s 173ms/step\n",
            "1/1 [==============================] - 0s 170ms/step\n",
            "1/1 [==============================] - 0s 157ms/step\n",
            "1/1 [==============================] - 0s 186ms/step\n",
            "1/1 [==============================] - 0s 172ms/step\n",
            "1/1 [==============================] - 0s 164ms/step\n",
            "1/1 [==============================] - 0s 161ms/step\n",
            "1/1 [==============================] - 0s 186ms/step\n",
            "1/1 [==============================] - 0s 177ms/step\n",
            "1/1 [==============================] - 0s 161ms/step\n",
            "1/1 [==============================] - 0s 59ms/step\n"
          ]
        }
      ]
    },
    {
      "cell_type": "markdown",
      "source": [
        "### **precision, recall, f1 score, and support**"
      ],
      "metadata": {
        "id": "2syVBHxEKXD8"
      }
    },
    {
      "cell_type": "code",
      "source": [
        "from sklearn.metrics import classification_report\n",
        "\n",
        "def get_classification_report(y_true, y_pred, target_names):\n",
        "    report = classification_report(y_true, y_pred, target_names=target_names)\n",
        "    return report\n",
        "\n",
        "# Get classification report for the test dataset\n",
        "target_names = [str(cls) for cls in class_names]  # Assuming class_names is a list of class names\n",
        "print(get_classification_report(test_labels, test_predictions, target_names))\n"
      ],
      "metadata": {
        "colab": {
          "base_uri": "https://localhost:8080/"
        },
        "id": "kfV29fe4IdWm",
        "outputId": "ed80648d-5a15-4e9c-9c5b-eb658b3fbb3e"
      },
      "execution_count": null,
      "outputs": [
        {
          "output_type": "stream",
          "name": "stdout",
          "text": [
            "              precision    recall  f1-score   support\n",
            "\n",
            "         aat       1.00      1.00      1.00        24\n",
            "        char       1.00      1.00      1.00        24\n",
            "        choy       1.00      1.00      1.00        24\n",
            "         dos       1.00      1.00      1.00        24\n",
            "         dui       1.00      1.00      1.00        23\n",
            "          ek       1.00      1.00      1.00        24\n",
            "         noy       1.00      1.00      1.00        24\n",
            "        pach       1.00      1.00      1.00        24\n",
            "        saat       1.00      1.00      1.00        24\n",
            "      shunno       1.00      1.00      1.00        24\n",
            "         tin       1.00      1.00      1.00        24\n",
            "\n",
            "    accuracy                           1.00       263\n",
            "   macro avg       1.00      1.00      1.00       263\n",
            "weighted avg       1.00      1.00      1.00       263\n",
            "\n"
          ]
        }
      ]
    },
    {
      "cell_type": "markdown",
      "source": [
        "### **Confusion matrix**"
      ],
      "metadata": {
        "id": "o7pzStvNKhsZ"
      }
    },
    {
      "cell_type": "code",
      "source": [
        "from sklearn.metrics import confusion_matrix\n",
        "import seaborn as sns\n",
        "\n",
        "def plot_confusion_matrix(y_true, y_pred, class_names):\n",
        "    # Calculate the confusion matrix\n",
        "    cm = confusion_matrix(y_true, y_pred)\n",
        "\n",
        "    # Plot the confusion matrix\n",
        "    plt.figure(figsize=(10, 10))\n",
        "    sns.heatmap(cm, annot=True, fmt='d', cmap='Blues', xticklabels=class_names, yticklabels=class_names)\n",
        "    plt.title('Confusion Matrix')\n",
        "    plt.ylabel('True Label')\n",
        "    plt.xlabel('Predicted Label')\n",
        "    plt.show()\n",
        "\n",
        "# Plot confusion matrix for the test dataset\n",
        "plot_confusion_matrix(test_labels, test_predictions, class_names)\n"
      ],
      "metadata": {
        "colab": {
          "base_uri": "https://localhost:8080/",
          "height": 872
        },
        "id": "sUtVs2KcIj7g",
        "outputId": "5f33be10-dd2b-4574-b1fa-07e36c125678"
      },
      "execution_count": null,
      "outputs": [
        {
          "output_type": "display_data",
          "data": {
            "text/plain": [
              "<Figure size 1000x1000 with 2 Axes>"
            ],
            "image/png": "[encoded data removed]"
          },
          "metadata": {}
        }
      ]
    }
  ]
}